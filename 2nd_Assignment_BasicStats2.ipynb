{
  "cells": [
    {
      "cell_type": "markdown",
      "source": [
        "Aim: To estimate the true mean durability (in millions of characters) print-heads using a small sample of size 15, and calculate 99% confidence intervals using:\n",
        "1. Sample standard deviation(use t-distribution)\n",
        "2. Known population standard deviation = 0.2 (use z-distribution)"
      ],
      "metadata": {
        "id": "UvY_1Sk3RtJd"
      }
    },
    {
      "cell_type": "markdown",
      "source": [
        "# ***Sample Data***"
      ],
      "metadata": {
        "id": "4hkX2TVsSW1h"
      }
    },
    {
      "cell_type": "code",
      "source": [
        "data = [1.13, 1.55, 1.43, 0.92, 1.25, 1.36, 1.32, 0.85, 1.07, 1.48, 1.20, 1.33, 1.18, 1.22, 1.29]\n"
      ],
      "metadata": {
        "id": "vjhX7TbhSInn"
      },
      "execution_count": null,
      "outputs": []
    },
    {
      "cell_type": "markdown",
      "source": [
        "# **1. Calculate basic sample statistics**"
      ],
      "metadata": {
        "id": "97zoMbUfSlps"
      }
    },
    {
      "cell_type": "code",
      "source": [
        "import numpy as np\n",
        "\n",
        "data = [1.13, 1.55, 1.43, 0.92, 1.25, 1.36, 1.32, 0.85, 1.07, 1.48, 1.20, 1.33, 1.18, 1.22, 1.29]\n",
        "\n",
        "n = len(data)\n",
        "mean = np.mean(data)\n",
        "sample_std = np.std(data, ddof=1)\n",
        "\n",
        "print(f\"Sample Size: {n}\")\n",
        "print(f\"Sample Mean: {mean:.4f}\")\n",
        "print(f\"Sample Standard Deviation: {sample_std:.4f}\")"
      ],
      "metadata": {
        "colab": {
          "base_uri": "https://localhost:8080/"
        },
        "id": "4ITiF2m0Seuu",
        "outputId": "26ee89cf-2b6a-490a-9608-619549cdbf72"
      },
      "execution_count": null,
      "outputs": [
        {
          "output_type": "stream",
          "name": "stdout",
          "text": [
            "Sample Size: 15\n",
            "Sample Mean: 1.2387\n",
            "Sample Standard Deviation: 0.1932\n"
          ]
        }
      ]
    },
    {
      "cell_type": "markdown",
      "source": [
        "# **2a Construct 99% confidence interval(when std dev is unknown)**"
      ],
      "metadata": {
        "id": "BA-K6dRvUEJY"
      }
    },
    {
      "cell_type": "code",
      "source": [
        "from scipy.stats import t\n",
        "\n",
        "confidence = 0.99\n",
        "alpha = 1 - confidence\n",
        "df = n - 1\n",
        "t_crit = t.ppf(1 - alpha/2, df)\n",
        "\n",
        "margin_error = t_crit * (sample_std / np.sqrt(n))\n",
        "ci_lower = mean - margin_error\n",
        "ci_upper = mean + margin_error\n",
        "\n",
        "print(f\"99% Confidence Interval (t-distribution): ({ci_lower:.4f}, {ci_upper:.4f})\")\n"
      ],
      "metadata": {
        "colab": {
          "base_uri": "https://localhost:8080/"
        },
        "id": "HoXe33RsVHfS",
        "outputId": "30357534-8184-46de-b5ee-eb3294176293"
      },
      "execution_count": null,
      "outputs": [
        {
          "output_type": "stream",
          "name": "stdout",
          "text": [
            "99% Confidence Interval (t-distribution): (1.0902, 1.3871)\n"
          ]
        }
      ]
    },
    {
      "cell_type": "markdown",
      "source": [
        "# **Step 2b: Construct 99% Confidence Interval (when std dev is known)**"
      ],
      "metadata": {
        "id": "-C_2RtHXW4mM"
      }
    },
    {
      "cell_type": "code",
      "source": [
        "from scipy.stats import norm\n",
        "\n",
        "pop_std = 0.2\n",
        "z_crit = norm.ppf(1 - alpha/2)\n",
        "\n",
        "margin_error_z = z_crit * (pop_std / np.sqrt(n))\n",
        "ci_lower_z = mean - margin_error_z\n",
        "ci_upper_z = mean + margin_error_z\n",
        "\n",
        "print(f\"99% Confidence Interval (z-distribution): ({ci_lower_z:.4f}, {ci_upper_z:.4f})\")\n"
      ],
      "metadata": {
        "colab": {
          "base_uri": "https://localhost:8080/"
        },
        "id": "xP0oHu3wW_ID",
        "outputId": "5d67f5ab-13da-47ae-b8f9-a7d59e976e2c"
      },
      "execution_count": null,
      "outputs": [
        {
          "output_type": "stream",
          "name": "stdout",
          "text": [
            "99% Confidence Interval (z-distribution): (1.1057, 1.3717)\n"
          ]
        }
      ]
    },
    {
      "cell_type": "markdown",
      "source": [
        "# **CONCLUSION**"
      ],
      "metadata": {
        "id": "FbLmL2jKY8D4"
      }
    },
    {
      "cell_type": "markdown",
      "source": [
        "**Both confidence intervals give a range of plausible values for the true mean durability of the print-heads.**\n",
        "\n",
        "*The t-distribution interval is slightly wider than the z-distribution interval.* This is expected because using the sample standard deviation introduces more uncertainty (especially with a small sample size).\n",
        "\n",
        "The true mean durability likely lies between:\n",
        "\n",
        "1.09 to 1.39 million characters (t-dist) or\n",
        "\n",
        "1.11 to 1.37 million characters (z-dist)\n",
        "\n",
        "# **Key Takeaway**\n",
        "When you don’t know the population standard deviation, you use the t-distribution, which gives a wider, more cautious estimate—especially important when working with small samples.\n",
        "\n",
        "This helps ensure your confidence interval actually contains the true mean more often\n",
        "\n",
        "\n",
        "\n",
        "\n",
        "\n"
      ],
      "metadata": {
        "id": "egT4YG_nZBD3"
      }
    },
    {
      "cell_type": "code",
      "source": [],
      "metadata": {
        "id": "L_xylTnXY_VF"
      },
      "execution_count": null,
      "outputs": []
    }
  ],
  "metadata": {
    "colab": {
      "provenance": []
    },
    "kernelspec": {
      "display_name": "Python 3",
      "name": "python3"
    }
  },
  "nbformat": 4,
  "nbformat_minor": 0
}