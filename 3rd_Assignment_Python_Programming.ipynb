{
  "nbformat": 4,
  "nbformat_minor": 0,
  "metadata": {
    "colab": {
      "provenance": []
    },
    "kernelspec": {
      "name": "python3",
      "display_name": "Python 3"
    },
    "language_info": {
      "name": "python"
    }
  },
  "cells": [
    {
      "cell_type": "markdown",
      "source": [
        "# **1. Prime Numbers**"
      ],
      "metadata": {
        "id": "vLfnJNKqcork"
      }
    },
    {
      "cell_type": "code",
      "source": [
        "#Exercise 1: Prime Number\n",
        "\n",
        "def is_prime(number):\n",
        "  #Check if number is less than or equal to 1 hence are not prime\n",
        "  if number <= 1:\n",
        "    return False\n",
        "\n",
        "  #Check from 2 to square root of number\n",
        "  for i in range (2, int(number ** 0.5) + 1):\n",
        "      if number % i == 0:\n",
        "        return False # Found a divisor, not a prime\n",
        "\n",
        "\n",
        "  return True # Found no divisor, it's a prime\n",
        "\n",
        "# Test the function\n",
        "num = int(input(\"Enter a number to check if it's prime: \"))\n",
        "\n",
        "if is_prime(num):\n",
        "  print(f\"{num} is a Prime Number.\")\n",
        "else:\n",
        "  print(f\"{num} is Not a Prime Number.\")"
      ],
      "metadata": {
        "colab": {
          "base_uri": "https://localhost:8080/"
        },
        "id": "_U63ikWwpDEz",
        "outputId": "71b49003-126f-4bc4-e520-972b5410d2e0"
      },
      "execution_count": 19,
      "outputs": [
        {
          "output_type": "stream",
          "name": "stdout",
          "text": [
            "Enter a number to check if it's prime: 29\n",
            "29 is a Prime Number.\n"
          ]
        }
      ]
    },
    {
      "cell_type": "markdown",
      "source": [
        "**What is a Prime Number?**\n",
        "\n",
        "A prime number is a whole number greater than 1 that is only divisible by 1 and itself. This means it can only be divided evenly by two different numbers: 1 and the number itself. For example, 2, 3, 5, 7, and 11 are prime numbers.\n",
        "\n",
        "**A Small Pattern in Prime Numbers**\n",
        "\n",
        "All prime numbers are odd (except 2, which is the only even prime)\n",
        "\n",
        "If a number is divisible by any number from 2 up to its square root, it is not prime\n",
        "\n",
        "**What is the Task?**\n",
        "\n",
        "The task is to check if the entered number is prime or not.\n",
        "\n",
        "\n",
        "**Code Explanation**\n",
        "\n",
        "First we check if the numbers are less than or equal to 1, by doing this we can assure 2 things, if the entered number are 1 or 0 ; since the pattern is based of multiple of 2 it isolates 1 and 0 before hand making the main function easy.\n",
        "\n",
        "Now in the main function we use 2 and its sqaure root, because checking till the square root of the number is enough to find if it's prime or not. If the number is not divisible by any number from 2 up to its square root, then it means there are no other numbers that can divide it evenly, so it must be a prime number.\n",
        "\n",
        "We use a for loop to go through each number in that range and check if the entered number can be divided by any of them. If it can, then it's not a prime number and we stop the function right there. If the loop finishes and we didn’t find any number that divides it, then it’s a prime.\n",
        "\n",
        "This method makes the program faster and more efficient, especially for bigger numbers.\n",
        "\n"
      ],
      "metadata": {
        "id": "TULiWUUvv-ha"
      }
    },
    {
      "cell_type": "markdown",
      "source": [
        "# **2. Profuct of Random Number**"
      ],
      "metadata": {
        "id": "EX3DkBTFpYkY"
      }
    },
    {
      "cell_type": "code",
      "source": [
        "# Exercise 2: Product of Random Numbers\n",
        "\n",
        "import random\n",
        "\n",
        "# Generate two random integers between 1 and 10\n",
        "num1 = random.randint(1, 10)\n",
        "num2 = random.randint(1, 10)\n",
        "\n",
        "# Ask user to enter the product\n",
        "user_answer = int(input(f\"What is the product of {num1} and {num2}? \"))\n",
        "\n",
        "# Check if user's answer is correct\n",
        "if user_answer == num1 * num2:\n",
        "    print(\"Correct! Well done.\")\n",
        "else:\n",
        "    print(f\"Incorrect. The correct answer is {num1 * num2}.\")\n"
      ],
      "metadata": {
        "colab": {
          "base_uri": "https://localhost:8080/"
        },
        "id": "E3_iZ8WJqOCc",
        "outputId": "0bd57271-01d4-4db9-c16f-578c3d830e43"
      },
      "execution_count": 1,
      "outputs": [
        {
          "output_type": "stream",
          "name": "stdout",
          "text": [
            "What is the product of 3 and 5? 15\n",
            "Correct! Well done.\n"
          ]
        }
      ]
    },
    {
      "cell_type": "markdown",
      "source": [
        "**What is the Task?**\n",
        "\n",
        "The task is to generate two random numbers between 1 and 10, ask the user to calculate their product, and then check if the user’s answer is correct or not.\n",
        "\n",
        "**Code Explanation**\n",
        "\n",
        "First, we import the random module, which allows us to generate random numbers in the program. We then use the randint function from the random module to generate two random integers between 1 and 10. These numbers are stored in the variables num1 and num2.\n",
        "\n",
        "Next, we ask the user to input their guess for the product of these two numbers. We use the input() function to display a question to the user. The input is converted to an integer using int() so we can compare it with the actual product.\n",
        "\n",
        "The program then checks if the user’s answer matches the correct product of num1 and num2. If the answer is correct, a message saying \"Correct! Well done.\" is displayed. If the answer is incorrect, the program shows the correct answer so the user can learn from their mistake.\n",
        "\n",
        "This exercise combines random number generation with user input validation and provides immediate feedback to the user, making it a good practice for interactive programming.\n",
        "\n"
      ],
      "metadata": {
        "id": "_-w6ugLXMoU7"
      }
    },
    {
      "cell_type": "markdown",
      "source": [],
      "metadata": {
        "id": "6VMlbU63CqPb"
      }
    },
    {
      "cell_type": "markdown",
      "source": [
        "# **3. Squares of Even/Odd Numbers**"
      ],
      "metadata": {
        "id": "BEBGuwC1qf21"
      }
    },
    {
      "cell_type": "code",
      "source": [
        "# Exercise 3: Squares of Even Numbers (Chosen Even)\n",
        "\n",
        "# Print a message explaining the task\n",
        "print(\"THE SQAURES OF ALL EVEN NUMBERS BETWEEN 100 AND 200\")\n",
        "\n",
        "# Loop through numbers from 100 to 200\n",
        "for number in range(100, 201):\n",
        "\n",
        "    # Check if the number is even\n",
        "    if number % 2 == 0:\n",
        "        # Calculate the square of the even number\n",
        "        square = number ** 2\n",
        "\n",
        "        # Print the number and its square in a more readable format\n",
        "        print(f\"The square of {number} is {square}\")"
      ],
      "metadata": {
        "colab": {
          "base_uri": "https://localhost:8080/"
        },
        "id": "thiOjM0Mqedk",
        "outputId": "605ce537-d1fb-4c4c-a10a-271150d6bebb"
      },
      "execution_count": 15,
      "outputs": [
        {
          "output_type": "stream",
          "name": "stdout",
          "text": [
            "THE SQAURES OF ALL EVEN NUMBERS BETWEEN 100 AND 200\n",
            "The square of 100 is 10000\n",
            "The square of 102 is 10404\n",
            "The square of 104 is 10816\n",
            "The square of 106 is 11236\n",
            "The square of 108 is 11664\n",
            "The square of 110 is 12100\n",
            "The square of 112 is 12544\n",
            "The square of 114 is 12996\n",
            "The square of 116 is 13456\n",
            "The square of 118 is 13924\n",
            "The square of 120 is 14400\n",
            "The square of 122 is 14884\n",
            "The square of 124 is 15376\n",
            "The square of 126 is 15876\n",
            "The square of 128 is 16384\n",
            "The square of 130 is 16900\n",
            "The square of 132 is 17424\n",
            "The square of 134 is 17956\n",
            "The square of 136 is 18496\n",
            "The square of 138 is 19044\n",
            "The square of 140 is 19600\n",
            "The square of 142 is 20164\n",
            "The square of 144 is 20736\n",
            "The square of 146 is 21316\n",
            "The square of 148 is 21904\n",
            "The square of 150 is 22500\n",
            "The square of 152 is 23104\n",
            "The square of 154 is 23716\n",
            "The square of 156 is 24336\n",
            "The square of 158 is 24964\n",
            "The square of 160 is 25600\n",
            "The square of 162 is 26244\n",
            "The square of 164 is 26896\n",
            "The square of 166 is 27556\n",
            "The square of 168 is 28224\n",
            "The square of 170 is 28900\n",
            "The square of 172 is 29584\n",
            "The square of 174 is 30276\n",
            "The square of 176 is 30976\n",
            "The square of 178 is 31684\n",
            "The square of 180 is 32400\n",
            "The square of 182 is 33124\n",
            "The square of 184 is 33856\n",
            "The square of 186 is 34596\n",
            "The square of 188 is 35344\n",
            "The square of 190 is 36100\n",
            "The square of 192 is 36864\n",
            "The square of 194 is 37636\n",
            "The square of 196 is 38416\n",
            "The square of 198 is 39204\n",
            "The square of 200 is 40000\n"
          ]
        }
      ]
    },
    {
      "cell_type": "markdown",
      "source": [
        "**What is the Task**\n",
        "\n",
        "The task is to print the squares of all even numbers between 100 and 200.\n",
        "\n",
        "**Why choose Even number**\n",
        "\n",
        "We chose even numbers for its simplicity and logic for even number can be easily understood.\n",
        "\n",
        "**Small Pattern in Even Numbers:**\n",
        "\n",
        "Even numbers are divisible by 2. In this case, we are specifically looking for even numbers between 100 and 200, and we will calculate their squares. For example, for each even number, we will take that number and multiply it by itself to get its square.\n",
        "\n",
        "**Code Explanation:**\n",
        "\n",
        "First, we print a line stating that the squares of even numbers will be printed. This helps the user understand what the program is about to do.\n",
        "\n",
        "We use a for loop for a specific range because our goal is to print squares only for numbers from 100 to 200. The loop goes through each number in this range one by one.\n",
        "\n",
        "For every number in the range, we check if it is even. We do this to skip the odd number because we chose to print the squares of the poitive number only.\n",
        "\n",
        "If the number is even, we calculate its square by multiplying the number by itself.\n",
        "\n",
        "Once the square is calculated, we print both the number and its square in a neat and clear format so it’s easy to understand.\n",
        "\n",
        "**NOTE:** We can also easliy print sqaures of the odd number the only important change will be the if statements condition (rest of the changes are minor)\n",
        "\n",
        "number % 2 == 0 → even\n",
        "\n",
        "number % 2 == 1 → odd (works for positive numbers)\n",
        "\n",
        "number % 2 != 0 → also odd (more universal, especially with negatives)\n"
      ],
      "metadata": {
        "id": "oYHdZceoeKFg"
      }
    },
    {
      "cell_type": "markdown",
      "source": [
        "# **4. Word Counter**"
      ],
      "metadata": {
        "id": "depPXOlzqy20"
      }
    },
    {
      "cell_type": "code",
      "source": [
        "# Exercise 4: Word Counter\n",
        "\n",
        "input_text = \"Math can be a very tough subject, but math is also very interesting. Math can be simple yet complicated; math is both challenging and fascinating.\"\n",
        "\n",
        "# Convert the text to lowercase to make counting case-insensitive\n",
        "input_text = input_text.lower()\n",
        "\n",
        "# Remove punctuation (optional improvement)\n",
        "import string\n",
        "for punctuation in string.punctuation:\n",
        "    input_text = input_text.replace(punctuation, \"\")\n",
        "\n",
        "# Split the text into words\n",
        "words = input_text.split()\n",
        "\n",
        "# Create an empty dictionary to store word counts\n",
        "word_count = {}\n",
        "\n",
        "# Loop through each word and count it\n",
        "for word in words:\n",
        "    if word in word_count:\n",
        "        word_count[word] += 1  # Increase count if word already in dictionary\n",
        "    else:\n",
        "        word_count[word] = 1   # Add word to dictionary if it's not there yet\n",
        "\n",
        "# Print the word counts\n",
        "for word, count in word_count.items():\n",
        "    print(f\"'{word}': {count}\")\n"
      ],
      "metadata": {
        "colab": {
          "base_uri": "https://localhost:8080/"
        },
        "id": "zPnM4uXKq5mS",
        "outputId": "60632099-a3dc-4529-f0a6-660d9bdca57a"
      },
      "execution_count": 13,
      "outputs": [
        {
          "output_type": "stream",
          "name": "stdout",
          "text": [
            "'math': 4\n",
            "'can': 2\n",
            "'be': 2\n",
            "'a': 1\n",
            "'very': 2\n",
            "'tough': 1\n",
            "'subject': 1\n",
            "'but': 1\n",
            "'is': 2\n",
            "'also': 1\n",
            "'interesting': 1\n",
            "'simple': 1\n",
            "'yet': 1\n",
            "'complicated': 1\n",
            "'both': 1\n",
            "'challenging': 1\n",
            "'and': 1\n",
            "'fascinating': 1\n"
          ]
        }
      ]
    },
    {
      "cell_type": "markdown",
      "source": [
        "**What is a Word Counter?**\n",
        "\n",
        "A word counter counts how many times each word appears in a text. It helps identify word frequency in a given sentence or passage.\n",
        "\n",
        "**Code Explanation**\n",
        "\n",
        "The task is to count the frequency of each word in the given text.\n",
        "\n",
        "First, the text is converted to lowercase so that words like \"Math\" and \"math\" are treated the same. Then, punctuation is removed to avoid counting \"Math.\" and \"Math\" separately.\n",
        "\n",
        "Next, the text is split into individual words. The program then uses a dictionary to keep track of how many times each word appears. A dictionary is a data structure that allows us to store key-value pairs, where the word is the \"key\" and its count is the \"value.\"\n",
        "\n",
        "For each word in the list, the program checks if the word already exists in the dictionary. If it does, it means the word has been encountered before, so the program increases its count by 1. If the word doesn’t exist in the dictionary, it is added as a new key with an initial count of 1.\n",
        "\n",
        "This process ensures that each word is counted correctly, and we end up with a dictionary that maps each unique word to the number of times it appears in the text.\n",
        "\n",
        "\n"
      ],
      "metadata": {
        "id": "MyK40WeaaT4F"
      }
    },
    {
      "cell_type": "markdown",
      "source": [
        "# **5. Check for Palindrome**"
      ],
      "metadata": {
        "id": "NJt60X5xrDrj"
      }
    },
    {
      "cell_type": "code",
      "source": [
        "# Exercise 5: Check for Palindrome\n",
        "\n",
        "def is_palindrome(text):\n",
        "    # Remove spaces and punctuation, and convert to lowercase\n",
        "    import string\n",
        "    cleaned_text = ''.join(char.lower() for char in text if char.isalnum())\n",
        "\n",
        "    # Check if cleaned text is the same when reversed\n",
        "    return cleaned_text == cleaned_text[::-1]\n",
        "\n",
        "# Test the function\n",
        "user_input = input(\"Enter a word or phrase to check if it's a palindrome: \")\n",
        "if is_palindrome(user_input):\n",
        "    print(\"Yes, it's a palindrome!\")\n",
        "else:\n",
        "    print(\"No, it's not a palindrome.\")\n"
      ],
      "metadata": {
        "colab": {
          "base_uri": "https://localhost:8080/"
        },
        "id": "gPO1wmP7q8-Q",
        "outputId": "9958edbe-e82d-47be-a6f0-0c6556b65f5f"
      },
      "execution_count": 11,
      "outputs": [
        {
          "output_type": "stream",
          "name": "stdout",
          "text": [
            "Enter a word or phrase to check if it's a palindrome: 569884\n",
            "No, it's not a palindrome.\n"
          ]
        }
      ]
    },
    {
      "cell_type": "markdown",
      "source": [
        "**What is a Palindrome?**\n",
        "\n",
        "A palindrome is a word, phrase, number, or other sequence of characters that reads the same forward and backward, ignoring spaces, punctuation, and capitalization. For example, \"madam\" and \"racecar\" are palindromes.\n",
        "\n",
        "**A Small Pattern in Palindromes**\n",
        "\n",
        "Palindromes remain the same even when reversed.\n",
        "\n",
        "Spaces, punctuation, and capitalization do not affect whether something is a palindrome.\n",
        "\n",
        "\n",
        "**Code Explanation**\n",
        "\n",
        "The task is to check if the entered number, word or phrase is a palindrome.\n",
        "\n",
        "First, we clean the input by removing spaces, punctuation, and converting the text to lowercase using a list comprehension. This ensures only alphanumeric characters are considered.\n",
        "\n",
        "Next, we check if the cleaned text is the same as its reverse. If it is, the text is a palindrome.\n",
        "\n",
        "The function returns `True` if the text is a palindrome and `False` otherwise. The user is prompted to input a word or phrase, and the result is printed accordingly."
      ],
      "metadata": {
        "id": "sueOdgv2rDRC"
      }
    },
    {
      "cell_type": "markdown",
      "source": [],
      "metadata": {
        "id": "BJwPDl8OWUJN"
      }
    }
  ]
}