{
  "nbformat": 4,
  "nbformat_minor": 0,
  "metadata": {
    "colab": {
      "provenance": []
    },
    "kernelspec": {
      "name": "python3",
      "display_name": "Python 3"
    },
    "language_info": {
      "name": "python"
    }
  },
  "cells": [
    {
      "cell_type": "markdown",
      "source": [
        "# **CHI-SQUARE TEST FOR INDEPENDENCE**"
      ],
      "metadata": {
        "id": "cSSGRnlaoJGf"
      }
    },
    {
      "cell_type": "markdown",
      "source": [
        "**GOAL:** To check if there's a relationship between the type of smart device and the customer satisfaction level."
      ],
      "metadata": {
        "id": "cqXDzAYbgrZv"
      }
    },
    {
      "cell_type": "code",
      "execution_count": 7,
      "metadata": {
        "id": "3MXvTs10n-IV",
        "colab": {
          "base_uri": "https://localhost:8080/"
        },
        "outputId": "dad83a23-2983-4505-85e7-0aa22a09f213"
      },
      "outputs": [
        {
          "output_type": "stream",
          "name": "stdout",
          "text": [
            "Step 1: Creating the Contingency Table\n",
            "Contingency Table:\n",
            "                  Smart Thermostat  Smart Light\n",
            "Very Satisfied                  50           70\n",
            "Satisfied                       80          100\n",
            "Neutral                         60           90\n",
            "Unsatisfied                     30           50\n",
            "Very Unsatisfied                20           50\n",
            "\n",
            "Step 2: Performing the Chi-Square Test for Independence\n",
            "Chi-Square Statistic (χ²): 5.6382\n",
            "Degrees of Freedom: 4\n",
            "p-value: 0.2278\n",
            "\n",
            "Step 3: Expected Frequencies Under the Null Hypothesis\n",
            "Expected Frequencies Table:\n",
            "                  Smart Thermostat  Smart Light\n",
            "Very Satisfied                48.0         72.0\n",
            "Satisfied                     72.0        108.0\n",
            "Neutral                       60.0         90.0\n",
            "Unsatisfied                   32.0         48.0\n",
            "Very Unsatisfied              28.0         42.0\n",
            "\n",
            "Step 4: Determining the Critical Value for α = 0.05\n",
            "Critical Value at α = 0.05: 9.4877\n",
            "\n",
            "Step 5: Making the Decision\n",
            "Conclusion: Fail to reject the null hypothesis.\n",
            "Interpretation: There is NO significant association between product type and customer satisfaction.\n"
          ]
        }
      ],
      "source": [
        "import pandas as pd\n",
        "import numpy as np\n",
        "from scipy.stats import chi2_contingency, chi2\n",
        "\n",
        "# Step 1: Creating the Contingency Table\n",
        "print(\"Step 1: Creating the Contingency Table\")\n",
        "\n",
        "# Data as NumPy array\n",
        "data = np.array([\n",
        "    [50, 70],   # Very Satisfied\n",
        "    [80, 100],  # Satisfied\n",
        "    [60, 90],   # Neutral\n",
        "    [30, 50],   # Unsatisfied\n",
        "    [20, 50]    # Very Unsatisfied\n",
        "])\n",
        "\n",
        "# Row and Column Labels\n",
        "satisfaction_levels = [\"Very Satisfied\", \"Satisfied\", \"Neutral\", \"Unsatisfied\", \"Very Unsatisfied\"]\n",
        "device_types = [\"Smart Thermostat\", \"Smart Light\"]\n",
        "\n",
        "# Creating the DataFrame\n",
        "df = pd.DataFrame(data, index=satisfaction_levels, columns=device_types)\n",
        "\n",
        "print(\"Contingency Table:\")\n",
        "print(df)\n",
        "print()\n",
        "\n",
        "# Step 2: Performing the Chi-Square Test\n",
        "print(\"Step 2: Performing the Chi-Square Test for Independence\")\n",
        "chi2_stat, p, dof, expected = chi2_contingency(df)\n",
        "print(f\"Chi-Square Statistic (χ²): {chi2_stat:.4f}\")\n",
        "print(f\"Degrees of Freedom: {dof}\")\n",
        "print(f\"p-value: {p:.4f}\")\n",
        "print()\n",
        "\n",
        "# Step 3: Showing the Expected Frequencies\n",
        "print(\"Step 3: Expected Frequencies Under the Null Hypothesis\")\n",
        "expected_df = pd.DataFrame(expected, index=satisfaction_levels, columns=device_types)\n",
        "print(\"Expected Frequencies Table:\")\n",
        "print(expected_df)\n",
        "print()\n",
        "\n",
        "# Step 4: Determining the Critical Value\n",
        "print(\"Step 4: Determining the Critical Value for α = 0.05\")\n",
        "alpha = 0.05\n",
        "critical_value = chi2.ppf(1 - alpha, dof)\n",
        "print(f\"Critical Value at α = {alpha}: {critical_value:.4f}\")\n",
        "print()\n",
        "\n",
        "# Step 5: Making the Decision\n",
        "print(\"Step 5: Making the Decision\")\n",
        "if chi2_stat > critical_value:\n",
        "    print(\"Conclusion: Reject the null hypothesis.\")\n",
        "    print(\"Interpretation: There IS a significant association between product type and customer satisfaction.\")\n",
        "else:\n",
        "    print(\"Conclusion: Fail to reject the null hypothesis.\")\n",
        "    print(\"Interpretation: There is NO significant association between product type and customer satisfaction.\")"
      ]
    },
    {
      "cell_type": "markdown",
      "source": [
        "# **HYPOTHESIS TESTING**"
      ],
      "metadata": {
        "id": "gvvKltdA4Pif"
      }
    },
    {
      "cell_type": "markdown",
      "source": [
        "**GOAL:** To test whether the actual weekly operating costs of franchises are significantly higher than what the company’s cost model predicts."
      ],
      "metadata": {
        "id": "Msl-jgomtZ8y"
      }
    },
    {
      "cell_type": "code",
      "source": [
        "# HYPOTHESIS TESTING: Weekly Operating Cost Analysis for Bombay Hospitality Ltd.\n",
        "\n",
        "# Step 1: State the Hypotheses\n",
        "print(\"STEP 1: State the Hypotheses\")\n",
        "print(\"H0 (Null Hypothesis): The weekly operating cost model is still valid (mean cost = Rs. 4,000).\")\n",
        "print(\"H1 (Alternative Hypothesis): The mean weekly operating cost is higher than Rs. 4,000.\")\n",
        "print()\n",
        "\n",
        "import numpy as np\n",
        "from scipy.stats import norm\n",
        "\n",
        "# Step 2: Define Given Values\n",
        "print(\"STEP 2: Given Data\")\n",
        "sample_mean = 3050 # x̄\n",
        "X_mean = 600       # Mean units produced\n",
        "X_std_dev = 25     # Standard deviation of X\n",
        "n = 25             # Sample size\n",
        "alpha = 0.05       # Significance level\n",
        "\n",
        "print(f\"Sample Mean (x̄): {sample_mean}\")\n",
        "print(f\"Mean Units Produced (X̄): {X_mean}\")\n",
        "print(f\"Standard Deviation of X (σ_X): {X_std_dev}\")\n",
        "print(f\"Sample Size (n): {n}\")\n",
        "print(f\"Significance Level (α): {alpha}\")\n",
        "print()\n",
        "\n",
        "# Step 3: Compute Theoretical Mean and Standard Deviation of W\n",
        "theoretical_mean = 1000 + 5 * X_mean      # μ = 1000 + 5X\n",
        "std_dev = 5 * X_std_dev                   # σ = 5 * σ_X\n",
        "standard_error = std_dev / np.sqrt(n)    # SE = σ / √n\n",
        "\n",
        "print(\"STEP 3: Distribution of W\")\n",
        "print(f\"Theoretical Mean (μ): {theoretical_mean}\")\n",
        "print(f\"Standard Deviation of W (σ): {std_dev}\")\n",
        "print(f\"Standard Error (SE): {standard_error:.2f}\")\n",
        "print()\n",
        "\n",
        "# Step 4: Calculate Z-statistic\n",
        "z_stat = (sample_mean - theoretical_mean) / standard_error\n",
        "\n",
        "print(\"STEP 4: Calculating Test Statistic\")\n",
        "print(f\"Z-statistic = (x̄ - μ) / SE = ({sample_mean} - {theoretical_mean}) / {standard_error:.2f} = {z_stat:.4f}\")\n",
        "print()\n",
        "\n",
        "# Step 5: Determine Critical Value\n",
        "critical_value = norm.ppf(1 - alpha)\n",
        "\n",
        "print(\"STEP 5: Critical Value for One-Tailed Test\")\n",
        "print(f\"Z-critical (at α = 0.05): {critical_value:.4f}\")\n",
        "print()\n",
        "\n",
        "# Step 6: Make the Decision\n",
        "print(\"STEP 6: Hypothesis Decision\")\n",
        "if z_stat > critical_value:\n",
        "    print(\"Result: Reject the null hypothesis.\")\n",
        "    print(\"Interpretation: The mean weekly operating cost is significantly higher than Rs. 4,000.\")\n",
        "else:\n",
        "    print(\"Result: Fail to reject the null hypothesis.\")\n",
        "    print(\"Interpretation: No significant evidence that the weekly cost exceeds Rs. 4,000.\")\n",
        "print()\n",
        "\n",
        "# Step 7: Final Conclusion\n",
        "print(\"STEP 7: Final Conclusion\")\n",
        "if z_stat > critical_value:\n",
        "    print(\"Conclusion: The data supports the restaurant owners' concern. The cost model may need updating.\")\n",
        "else:\n",
        "    print(\"Conclusion: The current model is still valid based on the data.\")\n"
      ],
      "metadata": {
        "colab": {
          "base_uri": "https://localhost:8080/"
        },
        "id": "mWtzoOwP5GT7",
        "outputId": "43c7aaeb-5161-4ac1-9dae-32330d23fc29"
      },
      "execution_count": 11,
      "outputs": [
        {
          "output_type": "stream",
          "name": "stdout",
          "text": [
            "STEP 1: State the Hypotheses\n",
            "H0 (Null Hypothesis): The weekly operating cost model is still valid (mean cost = Rs. 4,000).\n",
            "H1 (Alternative Hypothesis): The mean weekly operating cost is higher than Rs. 4,000.\n",
            "\n",
            "STEP 2: Given Data\n",
            "Sample Mean (x̄): 3050\n",
            "Mean Units Produced (X̄): 600\n",
            "Standard Deviation of X (σ_X): 25\n",
            "Sample Size (n): 25\n",
            "Significance Level (α): 0.05\n",
            "\n",
            "STEP 3: Distribution of W\n",
            "Theoretical Mean (μ): 4000\n",
            "Standard Deviation of W (σ): 125\n",
            "Standard Error (SE): 25.00\n",
            "\n",
            "STEP 4: Calculating Test Statistic\n",
            "Z-statistic = (x̄ - μ) / SE = (3050 - 4000) / 25.00 = -38.0000\n",
            "\n",
            "STEP 5: Critical Value for One-Tailed Test\n",
            "Z-critical (at α = 0.05): 1.6449\n",
            "\n",
            "STEP 6: Hypothesis Decision\n",
            "Result: Fail to reject the null hypothesis.\n",
            "Interpretation: No significant evidence that the weekly cost exceeds Rs. 4,000.\n",
            "\n",
            "STEP 7: Final Conclusion\n",
            "Conclusion: The current model is still valid based on the data.\n"
          ]
        }
      ]
    }
  ]
}